{
 "cells": [
  {
   "cell_type": "code",
   "execution_count": 86,
   "metadata": {},
   "outputs": [],
   "source": [
    "import torch\n",
    "import torchvision\n",
    "import torchvision.transforms as transforms\n",
    "import torch.nn as nn\n",
    "import torch.nn.functional as F\n",
    "import matplotlib.pyplot as plt\n",
    "import numpy as np\n",
    "from tqdm.notebook import tqdm\n",
    "\n",
    "import datasets\n",
    "import networks"
   ]
  },
  {
   "cell_type": "code",
   "execution_count": 83,
   "metadata": {},
   "outputs": [],
   "source": [
    "BATCH_SIZE = 256\n",
    "LR = 1e-3\n",
    "EPOCHS = 3\n",
    "DEVICE = torch.device('mps')\n",
    "DATASET = 'mnist'"
   ]
  },
  {
   "cell_type": "code",
   "execution_count": 84,
   "metadata": {},
   "outputs": [],
   "source": [
    "if DATASET == 'mnist':\n",
    "    dataset = datasets.get_mnist()\n",
    "elif DATASET == 'cifar':\n",
    "    dataset = datasets.get_cifar()\n",
    "\n",
    "train_loader = torch.utils.data.DataLoader(dataset['train'], batch_size=BATCH_SIZE, shuffle=True)\n",
    "test_loader = torch.utils.data.DataLoader(dataset['test'], batch_size=BATCH_SIZE, shuffle=True)"
   ]
  },
  {
   "cell_type": "code",
   "execution_count": 87,
   "metadata": {},
   "outputs": [
    {
     "data": {
      "application/vnd.jupyter.widget-view+json": {
       "model_id": "15b1a36d214c4f5fa3f9908c1ee6afef",
       "version_major": 2,
       "version_minor": 0
      },
      "text/plain": [
       "  0%|          | 0/705 [00:00<?, ?it/s]"
      ]
     },
     "metadata": {},
     "output_type": "display_data"
    }
   ],
   "source": [
    "model = networks.MLP(hdims=[1000,500,250,100]).to(DEVICE)\n",
    "optimiser = torch.optim.Adam(model.parameters(), lr=LR)\n",
    "loss = nn.CrossEntropyLoss()\n",
    "prog_bar = tqdm(total=EPOCHS * len(train_loader))\n",
    "\n",
    "for epoch in range(EPOCHS):\n",
    "    for step, (x, y_hat) in enumerate(train_loader):\n",
    "        x, y_hat = x.to(DEVICE), y_hat.to(DEVICE)\n",
    "        y = model(x)\n",
    "        l = loss(y, y_hat)\n",
    "        optimiser.zero_grad()\n",
    "        l.backward()\n",
    "        optimiser.step()\n",
    "        prog_bar.update(1)\n",
    "        if step % 100 == 0:\n",
    "            prog_bar.set_description(f'epoch: {epoch} loss: {l.detach().cpu().item()}')\n",
    "    "
   ]
  },
  {
   "cell_type": "code",
   "execution_count": 88,
   "metadata": {},
   "outputs": [
    {
     "name": "stdout",
     "output_type": "stream",
     "text": [
      "Accuracy: 0.9646484375\n"
     ]
    }
   ],
   "source": [
    "accuracies = []\n",
    "for x, y_hat in test_loader:\n",
    "    x, y_hat = x.to(DEVICE), y_hat.to(DEVICE)\n",
    "    with torch.no_grad():\n",
    "        y = model(x)\n",
    "    pred = torch.argmax(y, dim=-1)\n",
    "    accuracy = (y_hat == pred).to(torch.float).mean().cpu().item()\n",
    "    accuracies.append(accuracy)\n",
    "print(f'Accuracy: {sum(accuracies)/len(accuracies)}')"
   ]
  },
  {
   "cell_type": "markdown",
   "metadata": {},
   "source": [
    "## Pruning network"
   ]
  },
  {
   "cell_type": "code",
   "execution_count": 28,
   "metadata": {},
   "outputs": [
    {
     "name": "stdout",
     "output_type": "stream",
     "text": [
      "fc1.weight torch.Size([500, 3072])\n",
      "fc1.bias torch.Size([500])\n",
      "fc2.weight torch.Size([100, 500])\n",
      "fc2.bias torch.Size([100])\n",
      "fc3.weight torch.Size([10, 100])\n",
      "fc3.bias torch.Size([10])\n"
     ]
    }
   ],
   "source": [
    "import torch.nn.utils.prune as prune\n",
    "\n",
    "for name, param in model.named_parameters():\n",
    "    print(name, param.shape)"
   ]
  },
  {
   "cell_type": "code",
   "execution_count": 30,
   "metadata": {},
   "outputs": [],
   "source": [
    "parameters_to_prune = (\n",
    "    # (model.conv1, 'weight'),\n",
    "    # (model.conv2, 'weight'),\n",
    "    (model.fc1, 'weight'),\n",
    "    (model.fc2, 'weight'),\n",
    "    (model.fc3, 'weight'),\n",
    ")\n",
    "\n",
    "prune.global_unstructured(\n",
    "    parameters_to_prune,\n",
    "    pruning_method=prune.L1Unstructured,\n",
    "    amount=0.9\n",
    ")"
   ]
  },
  {
   "cell_type": "code",
   "execution_count": 31,
   "metadata": {},
   "outputs": [
    {
     "name": "stdout",
     "output_type": "stream",
     "text": [
      "fc1.weight_mask torch.Size([500, 3072]) tensor(91.2211, device='mps:0')\n",
      "fc2.weight_mask torch.Size([100, 500]) tensor(53.8440, device='mps:0')\n",
      "fc3.weight_mask torch.Size([10, 100]) tensor(22.2000, device='mps:0')\n",
      "global sparsity: tensor(90.0000, device='mps:0')\n"
     ]
    }
   ],
   "source": [
    "sparsities = []\n",
    "for name, param in model.named_buffers():\n",
    "    sparsity = 100 * (param == 0.0).sum() / param.nelement()\n",
    "    sparsities.append((param.nelement(), sparsity))\n",
    "    print(name, param.shape, sparsity)\n",
    "print('global sparsity:', sum([nel*s for nel,s in sparsities])/sum([nel for nel,_ in sparsities]))"
   ]
  },
  {
   "cell_type": "code",
   "execution_count": 32,
   "metadata": {},
   "outputs": [
    {
     "name": "stdout",
     "output_type": "stream",
     "text": [
      "Accuracy: 0.74951171875\n"
     ]
    }
   ],
   "source": [
    "accuracies = []\n",
    "for x, y_hat in test_loader:\n",
    "    x, y_hat = x.to(DEVICE), y_hat.to(DEVICE)\n",
    "    with torch.no_grad():\n",
    "        y = model(x)\n",
    "    pred = torch.argmax(y, dim=-1)\n",
    "    accuracy = (y_hat == pred).to(torch.float).mean().cpu().item()\n",
    "    accuracies.append(accuracy)\n",
    "print(f'Accuracy: {sum(accuracies)/len(accuracies)}')"
   ]
  },
  {
   "cell_type": "code",
   "execution_count": 33,
   "metadata": {},
   "outputs": [],
   "source": [
    "# remove 'reparameterisation' and make pruning permanent\n",
    "for module, pname in parameters_to_prune:\n",
    "    prune.remove(module, pname)"
   ]
  }
 ],
 "metadata": {
  "kernelspec": {
   "display_name": ".venv",
   "language": "python",
   "name": "python3"
  },
  "language_info": {
   "codemirror_mode": {
    "name": "ipython",
    "version": 3
   },
   "file_extension": ".py",
   "mimetype": "text/x-python",
   "name": "python",
   "nbconvert_exporter": "python",
   "pygments_lexer": "ipython3",
   "version": "3.10.5"
  }
 },
 "nbformat": 4,
 "nbformat_minor": 2
}
